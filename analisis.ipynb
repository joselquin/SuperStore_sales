{
 "cells": [
  {
   "attachments": {},
   "cell_type": "markdown",
   "metadata": {},
   "source": [
    "# SUPERMARKET SALES\n",
    "\n",
    "Proyecto de análisis de Series Temporales y Forecast\n",
    "-- Análisis Serie Temporal - Forecast --\n",
    "\n",
    "Jose Luis Quintero García, abr2023"
   ]
  },
  {
   "cell_type": "code",
   "execution_count": null,
   "metadata": {},
   "outputs": [],
   "source": []
  }
 ],
 "metadata": {
  "language_info": {
   "name": "python"
  },
  "orig_nbformat": 4
 },
 "nbformat": 4,
 "nbformat_minor": 2
}
