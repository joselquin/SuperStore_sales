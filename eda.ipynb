{
 "cells": [
  {
   "cell_type": "markdown",
   "metadata": {},
   "source": [
    "# SUPERMARKET SALES\n",
    "\n",
    "Proyecto de análisis de Series Temporales y Forecast\n",
    "-- EDA --\n",
    "\n",
    "Jose Luis Quintero García, abr2023"
   ]
  },
  {
   "attachments": {},
   "cell_type": "markdown",
   "metadata": {},
   "source": [
    "### Importación de librerías y carga de datos"
   ]
  },
  {
   "cell_type": "code",
   "execution_count": 2,
   "metadata": {},
   "outputs": [],
   "source": [
    "import numpy as np\n",
    "import pandas as pd\n",
    "import matplotlib.pyplot as plt"
   ]
  },
  {
   "cell_type": "code",
   "execution_count": 7,
   "metadata": {},
   "outputs": [
    {
     "data": {
      "text/html": [
       "<div>\n",
       "<style scoped>\n",
       "    .dataframe tbody tr th:only-of-type {\n",
       "        vertical-align: middle;\n",
       "    }\n",
       "\n",
       "    .dataframe tbody tr th {\n",
       "        vertical-align: top;\n",
       "    }\n",
       "\n",
       "    .dataframe thead th {\n",
       "        text-align: right;\n",
       "    }\n",
       "</style>\n",
       "<table border=\"1\" class=\"dataframe\">\n",
       "  <thead>\n",
       "    <tr style=\"text-align: right;\">\n",
       "      <th></th>\n",
       "      <th>Order ID</th>\n",
       "      <th>Order Date</th>\n",
       "      <th>Ship Date</th>\n",
       "      <th>Ship Mode</th>\n",
       "      <th>Sales</th>\n",
       "      <th>Quantity</th>\n",
       "      <th>Discount</th>\n",
       "      <th>Profit</th>\n",
       "      <th>Devolucion</th>\n",
       "    </tr>\n",
       "  </thead>\n",
       "  <tbody>\n",
       "    <tr>\n",
       "      <th>0</th>\n",
       "      <td>CA-2016-152156</td>\n",
       "      <td>2016-11-08</td>\n",
       "      <td>2016-11-11</td>\n",
       "      <td>Second Class</td>\n",
       "      <td>261.9600</td>\n",
       "      <td>2</td>\n",
       "      <td>0.00</td>\n",
       "      <td>41.9136</td>\n",
       "      <td>0</td>\n",
       "    </tr>\n",
       "    <tr>\n",
       "      <th>1</th>\n",
       "      <td>CA-2016-152156</td>\n",
       "      <td>2016-11-08</td>\n",
       "      <td>2016-11-11</td>\n",
       "      <td>Second Class</td>\n",
       "      <td>731.9400</td>\n",
       "      <td>3</td>\n",
       "      <td>0.00</td>\n",
       "      <td>219.5820</td>\n",
       "      <td>0</td>\n",
       "    </tr>\n",
       "    <tr>\n",
       "      <th>2</th>\n",
       "      <td>CA-2016-138688</td>\n",
       "      <td>2016-06-12</td>\n",
       "      <td>2016-06-16</td>\n",
       "      <td>Second Class</td>\n",
       "      <td>14.6200</td>\n",
       "      <td>2</td>\n",
       "      <td>0.00</td>\n",
       "      <td>6.8714</td>\n",
       "      <td>0</td>\n",
       "    </tr>\n",
       "    <tr>\n",
       "      <th>3</th>\n",
       "      <td>US-2015-108966</td>\n",
       "      <td>2015-10-11</td>\n",
       "      <td>2015-10-18</td>\n",
       "      <td>Standard Class</td>\n",
       "      <td>957.5775</td>\n",
       "      <td>5</td>\n",
       "      <td>0.45</td>\n",
       "      <td>-383.0310</td>\n",
       "      <td>0</td>\n",
       "    </tr>\n",
       "    <tr>\n",
       "      <th>4</th>\n",
       "      <td>US-2015-108966</td>\n",
       "      <td>2015-10-11</td>\n",
       "      <td>2015-10-18</td>\n",
       "      <td>Standard Class</td>\n",
       "      <td>22.3680</td>\n",
       "      <td>2</td>\n",
       "      <td>0.20</td>\n",
       "      <td>2.5164</td>\n",
       "      <td>0</td>\n",
       "    </tr>\n",
       "  </tbody>\n",
       "</table>\n",
       "</div>"
      ],
      "text/plain": [
       "         Order ID Order Date  Ship Date       Ship Mode     Sales  Quantity  \\\n",
       "0  CA-2016-152156 2016-11-08 2016-11-11    Second Class  261.9600         2   \n",
       "1  CA-2016-152156 2016-11-08 2016-11-11    Second Class  731.9400         3   \n",
       "2  CA-2016-138688 2016-06-12 2016-06-16    Second Class   14.6200         2   \n",
       "3  US-2015-108966 2015-10-11 2015-10-18  Standard Class  957.5775         5   \n",
       "4  US-2015-108966 2015-10-11 2015-10-18  Standard Class   22.3680         2   \n",
       "\n",
       "   Discount    Profit  Devolucion  \n",
       "0      0.00   41.9136           0  \n",
       "1      0.00  219.5820           0  \n",
       "2      0.00    6.8714           0  \n",
       "3      0.45 -383.0310           0  \n",
       "4      0.20    2.5164           0  "
      ]
     },
     "execution_count": 7,
     "metadata": {},
     "output_type": "execute_result"
    }
   ],
   "source": [
    "ordenes = pd.read_csv(\"./ordenes.csv\", parse_dates=[\"Order Date\", \"Ship Date\"])\n",
    "ordenes.head()"
   ]
  },
  {
   "cell_type": "code",
   "execution_count": 8,
   "metadata": {},
   "outputs": [
    {
     "name": "stdout",
     "output_type": "stream",
     "text": [
      "<class 'pandas.core.frame.DataFrame'>\n",
      "RangeIndex: 9994 entries, 0 to 9993\n",
      "Data columns (total 9 columns):\n",
      " #   Column      Non-Null Count  Dtype         \n",
      "---  ------      --------------  -----         \n",
      " 0   Order ID    9994 non-null   object        \n",
      " 1   Order Date  9994 non-null   datetime64[ns]\n",
      " 2   Ship Date   9994 non-null   datetime64[ns]\n",
      " 3   Ship Mode   9994 non-null   object        \n",
      " 4   Sales       9994 non-null   float64       \n",
      " 5   Quantity    9994 non-null   int64         \n",
      " 6   Discount    9994 non-null   float64       \n",
      " 7   Profit      9994 non-null   float64       \n",
      " 8   Devolucion  9994 non-null   int64         \n",
      "dtypes: datetime64[ns](2), float64(3), int64(2), object(2)\n",
      "memory usage: 702.8+ KB\n"
     ]
    }
   ],
   "source": [
    "ordenes.info()"
   ]
  },
  {
   "attachments": {},
   "cell_type": "markdown",
   "metadata": {},
   "source": [
    "Hay que tener en cuenta que aquí se almacenan pedidos que pueden tener varias líneas y, por tanto, el Order ID no es único. Y podría haber varios pedidos en un solo día, incluso en la misma ciudad, por lo que la fecha tampoco es única.\n",
    "\n",
    "Por tanto, ahora mismo tenemos varias series temporales. Querremos analizar las ventas de los supermercados, pero los pasos siguientes dependera´n de las preguntas que nos hagamos. Supongamos la siguiente lista:\n",
    "\n",
    "- ¿Cual es la evolución de ventas totales global de la empresa con el tiempo?\n",
    "- ¿Y su rentabilidad?\n",
    "- ¿Y por ciudades?¿Qué ciudad vende más?\n",
    "- ¿Qué producto es el que más se vende en el total de la empresa?\n",
    "- Idem por ciudades\n",
    "- ¿Qeé producto es el más rentable?¿Coincide con el que más factura?\n",
    "- ¿Y qué ciudad?¿Coincide con la que más factura?\n",
    "\n",
    "Después elegiremos el producto más rentable y la ciudad más rentable y veremos su evolución temporal para el siguiente paso.\n",
    "\n"
   ]
  },
  {
   "attachments": {},
   "cell_type": "markdown",
   "metadata": {},
   "source": [
    "## Análisis de toda la empresa\n",
    "\n",
    "Para esto agruparemos todas las ventas por fecha, sumando valores numéricos. Aquí no nos importan los datos categóricos. Usaremos la fecha de pedido (Order Date) y hay que tener en cuenta que los pedidos devueltos no deben sumar.\n",
    "\n",
    "Además, los datos diarios para una serie de tanto tiempo posiblemente sea una frecuencia excesiva. Agruparemos los datos por ventas mensuales."
   ]
  },
  {
   "cell_type": "code",
   "execution_count": 38,
   "metadata": {},
   "outputs": [
    {
     "name": "stderr",
     "output_type": "stream",
     "text": [
      "C:\\Users\\Jose Luis\\AppData\\Local\\Temp\\ipykernel_7360\\755962988.py:1: FutureWarning: The default value of numeric_only in DataFrameGroupBy.sum is deprecated. In a future version, numeric_only will default to False. Either specify numeric_only or select only columns which should be valid for the function.\n",
      "  ordenes_totales = ordenes.groupby(ordenes[\"Order Date\"]).sum()\n"
     ]
    },
    {
     "data": {
      "text/html": [
       "<div>\n",
       "<style scoped>\n",
       "    .dataframe tbody tr th:only-of-type {\n",
       "        vertical-align: middle;\n",
       "    }\n",
       "\n",
       "    .dataframe tbody tr th {\n",
       "        vertical-align: top;\n",
       "    }\n",
       "\n",
       "    .dataframe thead th {\n",
       "        text-align: right;\n",
       "    }\n",
       "</style>\n",
       "<table border=\"1\" class=\"dataframe\">\n",
       "  <thead>\n",
       "    <tr style=\"text-align: right;\">\n",
       "      <th></th>\n",
       "      <th>Sales</th>\n",
       "      <th>Quantity</th>\n",
       "      <th>Discount</th>\n",
       "      <th>Profit</th>\n",
       "      <th>Devolucion</th>\n",
       "    </tr>\n",
       "    <tr>\n",
       "      <th>Order Date</th>\n",
       "      <th></th>\n",
       "      <th></th>\n",
       "      <th></th>\n",
       "      <th></th>\n",
       "      <th></th>\n",
       "    </tr>\n",
       "  </thead>\n",
       "  <tbody>\n",
       "    <tr>\n",
       "      <th>2014-01-03</th>\n",
       "      <td>16.448</td>\n",
       "      <td>2</td>\n",
       "      <td>0.2</td>\n",
       "      <td>5.5512</td>\n",
       "      <td>0</td>\n",
       "    </tr>\n",
       "    <tr>\n",
       "      <th>2014-01-04</th>\n",
       "      <td>288.060</td>\n",
       "      <td>8</td>\n",
       "      <td>1.2</td>\n",
       "      <td>-65.9901</td>\n",
       "      <td>0</td>\n",
       "    </tr>\n",
       "    <tr>\n",
       "      <th>2014-01-05</th>\n",
       "      <td>19.536</td>\n",
       "      <td>3</td>\n",
       "      <td>0.2</td>\n",
       "      <td>4.8840</td>\n",
       "      <td>0</td>\n",
       "    </tr>\n",
       "    <tr>\n",
       "      <th>2014-01-06</th>\n",
       "      <td>4407.100</td>\n",
       "      <td>30</td>\n",
       "      <td>0.0</td>\n",
       "      <td>1358.0524</td>\n",
       "      <td>0</td>\n",
       "    </tr>\n",
       "    <tr>\n",
       "      <th>2014-01-07</th>\n",
       "      <td>87.158</td>\n",
       "      <td>10</td>\n",
       "      <td>1.4</td>\n",
       "      <td>-71.9621</td>\n",
       "      <td>0</td>\n",
       "    </tr>\n",
       "  </tbody>\n",
       "</table>\n",
       "</div>"
      ],
      "text/plain": [
       "               Sales  Quantity  Discount     Profit  Devolucion\n",
       "Order Date                                                     \n",
       "2014-01-03    16.448         2       0.2     5.5512           0\n",
       "2014-01-04   288.060         8       1.2   -65.9901           0\n",
       "2014-01-05    19.536         3       0.2     4.8840           0\n",
       "2014-01-06  4407.100        30       0.0  1358.0524           0\n",
       "2014-01-07    87.158        10       1.4   -71.9621           0"
      ]
     },
     "execution_count": 38,
     "metadata": {},
     "output_type": "execute_result"
    }
   ],
   "source": [
    "ordenes_totales = ordenes.groupby(ordenes[\"Order Date\"]).sum()\n",
    "ordenes_totales.head()"
   ]
  },
  {
   "cell_type": "code",
   "execution_count": 29,
   "metadata": {},
   "outputs": [
    {
     "data": {
      "text/html": [
       "<div>\n",
       "<style scoped>\n",
       "    .dataframe tbody tr th:only-of-type {\n",
       "        vertical-align: middle;\n",
       "    }\n",
       "\n",
       "    .dataframe tbody tr th {\n",
       "        vertical-align: top;\n",
       "    }\n",
       "\n",
       "    .dataframe thead th {\n",
       "        text-align: right;\n",
       "    }\n",
       "</style>\n",
       "<table border=\"1\" class=\"dataframe\">\n",
       "  <thead>\n",
       "    <tr style=\"text-align: right;\">\n",
       "      <th></th>\n",
       "      <th>Sales</th>\n",
       "      <th>Quantity</th>\n",
       "      <th>Discount</th>\n",
       "      <th>Profit</th>\n",
       "    </tr>\n",
       "    <tr>\n",
       "      <th>Order Date</th>\n",
       "      <th></th>\n",
       "      <th></th>\n",
       "      <th></th>\n",
       "      <th></th>\n",
       "    </tr>\n",
       "  </thead>\n",
       "  <tbody>\n",
       "    <tr>\n",
       "      <th>2014-01-03</th>\n",
       "      <td>16.448</td>\n",
       "      <td>2</td>\n",
       "      <td>0.2</td>\n",
       "      <td>5.5512</td>\n",
       "    </tr>\n",
       "    <tr>\n",
       "      <th>2014-01-04</th>\n",
       "      <td>288.060</td>\n",
       "      <td>8</td>\n",
       "      <td>1.2</td>\n",
       "      <td>-65.9901</td>\n",
       "    </tr>\n",
       "    <tr>\n",
       "      <th>2014-01-05</th>\n",
       "      <td>19.536</td>\n",
       "      <td>3</td>\n",
       "      <td>0.2</td>\n",
       "      <td>4.8840</td>\n",
       "    </tr>\n",
       "    <tr>\n",
       "      <th>2014-01-06</th>\n",
       "      <td>4407.100</td>\n",
       "      <td>30</td>\n",
       "      <td>0.0</td>\n",
       "      <td>1358.0524</td>\n",
       "    </tr>\n",
       "    <tr>\n",
       "      <th>2014-01-07</th>\n",
       "      <td>87.158</td>\n",
       "      <td>10</td>\n",
       "      <td>1.4</td>\n",
       "      <td>-71.9621</td>\n",
       "    </tr>\n",
       "  </tbody>\n",
       "</table>\n",
       "</div>"
      ],
      "text/plain": [
       "               Sales  Quantity  Discount     Profit\n",
       "Order Date                                         \n",
       "2014-01-03    16.448         2       0.2     5.5512\n",
       "2014-01-04   288.060         8       1.2   -65.9901\n",
       "2014-01-05    19.536         3       0.2     4.8840\n",
       "2014-01-06  4407.100        30       0.0  1358.0524\n",
       "2014-01-07    87.158        10       1.4   -71.9621"
      ]
     },
     "execution_count": 29,
     "metadata": {},
     "output_type": "execute_result"
    }
   ],
   "source": [
    "# Quitamos los registros donde haya una devolución\n",
    "ordenes_totales = ordenes_totales.loc[ordenes_totales[\"Devolucion\"]==0]\n",
    "\n",
    "# Borramos la columna \"devolucion\", que ahora sobra\n",
    "ordenes_totales.drop([\"Devolucion\"], axis=1, inplace=True)\n",
    "\n",
    "ordenes_totales.head()"
   ]
  },
  {
   "cell_type": "code",
   "execution_count": 44,
   "metadata": {},
   "outputs": [
    {
     "data": {
      "text/html": [
       "<div>\n",
       "<style scoped>\n",
       "    .dataframe tbody tr th:only-of-type {\n",
       "        vertical-align: middle;\n",
       "    }\n",
       "\n",
       "    .dataframe tbody tr th {\n",
       "        vertical-align: top;\n",
       "    }\n",
       "\n",
       "    .dataframe thead th {\n",
       "        text-align: right;\n",
       "    }\n",
       "</style>\n",
       "<table border=\"1\" class=\"dataframe\">\n",
       "  <thead>\n",
       "    <tr style=\"text-align: right;\">\n",
       "      <th></th>\n",
       "      <th>Sales</th>\n",
       "      <th>Quantity</th>\n",
       "      <th>Discount</th>\n",
       "      <th>Profit</th>\n",
       "      <th>Devolucion</th>\n",
       "    </tr>\n",
       "    <tr>\n",
       "      <th>Order Date</th>\n",
       "      <th></th>\n",
       "      <th></th>\n",
       "      <th></th>\n",
       "      <th></th>\n",
       "      <th></th>\n",
       "    </tr>\n",
       "  </thead>\n",
       "  <tbody>\n",
       "    <tr>\n",
       "      <th>2014-01-01</th>\n",
       "      <td>0.000</td>\n",
       "      <td>0.0</td>\n",
       "      <td>0.0</td>\n",
       "      <td>0.0000</td>\n",
       "      <td>0.0</td>\n",
       "    </tr>\n",
       "    <tr>\n",
       "      <th>2014-02-01</th>\n",
       "      <td>468.900</td>\n",
       "      <td>6.0</td>\n",
       "      <td>0.0</td>\n",
       "      <td>206.3160</td>\n",
       "      <td>0.0</td>\n",
       "    </tr>\n",
       "    <tr>\n",
       "      <th>2014-03-01</th>\n",
       "      <td>2203.151</td>\n",
       "      <td>40.0</td>\n",
       "      <td>2.5</td>\n",
       "      <td>-208.9614</td>\n",
       "      <td>0.0</td>\n",
       "    </tr>\n",
       "    <tr>\n",
       "      <th>2014-04-01</th>\n",
       "      <td>119.888</td>\n",
       "      <td>12.0</td>\n",
       "      <td>0.2</td>\n",
       "      <td>26.0896</td>\n",
       "      <td>0.0</td>\n",
       "    </tr>\n",
       "    <tr>\n",
       "      <th>2014-05-01</th>\n",
       "      <td>1048.740</td>\n",
       "      <td>13.0</td>\n",
       "      <td>0.0</td>\n",
       "      <td>276.4956</td>\n",
       "      <td>0.0</td>\n",
       "    </tr>\n",
       "  </tbody>\n",
       "</table>\n",
       "</div>"
      ],
      "text/plain": [
       "               Sales  Quantity  Discount    Profit  Devolucion\n",
       "Order Date                                                    \n",
       "2014-01-01     0.000       0.0       0.0    0.0000         0.0\n",
       "2014-02-01   468.900       6.0       0.0  206.3160         0.0\n",
       "2014-03-01  2203.151      40.0       2.5 -208.9614         0.0\n",
       "2014-04-01   119.888      12.0       0.2   26.0896         0.0\n",
       "2014-05-01  1048.740      13.0       0.0  276.4956         0.0"
      ]
     },
     "execution_count": 44,
     "metadata": {},
     "output_type": "execute_result"
    }
   ],
   "source": [
    "# Cambiamos la frecuencia a datos mensuales\n",
    "ordenes_mensuales = ordenes_totales.resample(\"MS\").ffill()\n",
    "ordenes_mensuales = ordenes_mensuales.fillna(0)\n",
    "ordenes_mensuales.head()"
   ]
  },
  {
   "cell_type": "code",
   "execution_count": 45,
   "metadata": {},
   "outputs": [
    {
     "data": {
      "text/plain": [
       "<Axes: xlabel='Order Date'>"
      ]
     },
     "execution_count": 45,
     "metadata": {},
     "output_type": "execute_result"
    },
    {
     "data": {
      "image/png": "[encoded data removed]",
      "text/plain": [
       "<Figure size 1200x600 with 1 Axes>"
      ]
     },
     "metadata": {},
     "output_type": "display_data"
    }
   ],
   "source": [
    "ordenes_mensuales[\"Sales\"].plot(figsize=[12,6])"
   ]
  },
  {
   "cell_type": "code",
   "execution_count": 32,
   "metadata": {},
   "outputs": [
    {
     "name": "stdout",
     "output_type": "stream",
     "text": [
      "<class 'pandas.core.frame.DataFrame'>\n",
      "DatetimeIndex: 978 entries, 2014-01-03 to 2017-12-27\n",
      "Data columns (total 4 columns):\n",
      " #   Column    Non-Null Count  Dtype  \n",
      "---  ------    --------------  -----  \n",
      " 0   Sales     978 non-null    float64\n",
      " 1   Quantity  978 non-null    int64  \n",
      " 2   Discount  978 non-null    float64\n",
      " 3   Profit    978 non-null    float64\n",
      "dtypes: float64(3), int64(1)\n",
      "memory usage: 38.2 KB\n"
     ]
    }
   ],
   "source": []
  },
  {
   "cell_type": "code",
   "execution_count": null,
   "metadata": {},
   "outputs": [],
   "source": []
  }
 ],
 "metadata": {
  "kernelspec": {
   "display_name": "ts",
   "language": "python",
   "name": "python3"
  },
  "language_info": {
   "codemirror_mode": {
    "name": "ipython",
    "version": 3
   },
   "file_extension": ".py",
   "mimetype": "text/x-python",
   "name": "python",
   "nbconvert_exporter": "python",
   "pygments_lexer": "ipython3",
   "version": "3.10.9"
  },
  "orig_nbformat": 4
 },
 "nbformat": 4,
 "nbformat_minor": 2
}
